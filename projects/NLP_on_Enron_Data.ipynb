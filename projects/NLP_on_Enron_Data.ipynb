{
 "cells": [
  {
   "cell_type": "code",
   "execution_count": 1,
   "metadata": {
    "collapsed": true
   },
   "outputs": [],
   "source": [
    "import pandas as pd\n",
    "import matplotlib.pyplot as plt\n",
    "from helpers import *\n",
    "import email\n",
    "from nltk.tokenize.regexp import RegexpTokenizer\n",
    "import itertools\n",
    "import re\n",
    "from nltk.corpus import stopwords\n",
    "import string\n",
    "import nltk\n",
    "from sklearn.metrics.pairwise import linear_kernel"
   ]
  },
  {
   "cell_type": "markdown",
   "metadata": {},
   "source": [
    "## Load the Enron dataset"
   ]
  },
  {
   "cell_type": "code",
   "execution_count": 2,
   "metadata": {
    "collapsed": true
   },
   "outputs": [],
   "source": [
    "emails_df = pd.read_csv('../../Data/enron_emails.csv')"
   ]
  },
  {
   "cell_type": "code",
   "execution_count": 3,
   "metadata": {},
   "outputs": [
    {
     "data": {
      "text/html": [
       "<div>\n",
       "<table border=\"1\" class=\"dataframe\">\n",
       "  <thead>\n",
       "    <tr style=\"text-align: right;\">\n",
       "      <th></th>\n",
       "      <th>file</th>\n",
       "      <th>message</th>\n",
       "    </tr>\n",
       "  </thead>\n",
       "  <tbody>\n",
       "    <tr>\n",
       "      <th>0</th>\n",
       "      <td>allen-p/_sent_mail/1.</td>\n",
       "      <td>Message-ID: &lt;18782981.1075855378110.JavaMail.e...</td>\n",
       "    </tr>\n",
       "    <tr>\n",
       "      <th>1</th>\n",
       "      <td>allen-p/_sent_mail/10.</td>\n",
       "      <td>Message-ID: &lt;15464986.1075855378456.JavaMail.e...</td>\n",
       "    </tr>\n",
       "    <tr>\n",
       "      <th>2</th>\n",
       "      <td>allen-p/_sent_mail/100.</td>\n",
       "      <td>Message-ID: &lt;24216240.1075855687451.JavaMail.e...</td>\n",
       "    </tr>\n",
       "    <tr>\n",
       "      <th>3</th>\n",
       "      <td>allen-p/_sent_mail/1000.</td>\n",
       "      <td>Message-ID: &lt;13505866.1075863688222.JavaMail.e...</td>\n",
       "    </tr>\n",
       "    <tr>\n",
       "      <th>4</th>\n",
       "      <td>allen-p/_sent_mail/1001.</td>\n",
       "      <td>Message-ID: &lt;30922949.1075863688243.JavaMail.e...</td>\n",
       "    </tr>\n",
       "  </tbody>\n",
       "</table>\n",
       "</div>"
      ],
      "text/plain": [
       "                       file                                            message\n",
       "0     allen-p/_sent_mail/1.  Message-ID: <18782981.1075855378110.JavaMail.e...\n",
       "1    allen-p/_sent_mail/10.  Message-ID: <15464986.1075855378456.JavaMail.e...\n",
       "2   allen-p/_sent_mail/100.  Message-ID: <24216240.1075855687451.JavaMail.e...\n",
       "3  allen-p/_sent_mail/1000.  Message-ID: <13505866.1075863688222.JavaMail.e...\n",
       "4  allen-p/_sent_mail/1001.  Message-ID: <30922949.1075863688243.JavaMail.e..."
      ]
     },
     "execution_count": 3,
     "metadata": {},
     "output_type": "execute_result"
    }
   ],
   "source": [
    "emails_df.head()"
   ]
  },
  {
   "cell_type": "code",
   "execution_count": 4,
   "metadata": {},
   "outputs": [
    {
     "name": "stdout",
     "output_type": "stream",
     "text": [
      "('number of documents in the Enron dataset are:', 517401, 'we will take a subset of this.')\n"
     ]
    }
   ],
   "source": [
    "print('number of documents in the Enron dataset are:', len(emails_df), 'we will take a subset of this.')"
   ]
  },
  {
   "cell_type": "markdown",
   "metadata": {},
   "source": [
    "## Take a subset of the dataset for exploration"
   ]
  },
  {
   "cell_type": "code",
   "execution_count": 3,
   "metadata": {
    "collapsed": true
   },
   "outputs": [],
   "source": [
    "emails_df_sub = emails_df.sample(5000, random_state=1).reset_index(drop=True)"
   ]
  },
  {
   "cell_type": "code",
   "execution_count": 6,
   "metadata": {},
   "outputs": [
    {
     "data": {
      "text/plain": [
       "'Message-ID: <29110382.1075845717882.JavaMail.evans@thyme>\\nDate: Tue, 15 May 2001 11:03:00 -0700 (PDT)\\nFrom: kay.mann@enron.com\\nTo: sheila.tweed@enron.com\\nSubject: Re: Override letter\\nMime-Version: 1.0\\nContent-Type: text/plain; charset=us-ascii\\nContent-Transfer-Encoding: 7bit\\nX-From: Kay Mann\\nX-To: Sheila Tweed\\nX-cc: \\nX-bcc: \\nX-Folder: \\\\Kay_Mann_June2001_1\\\\Notes Folders\\\\All documents\\nX-Origin: MANN-K\\nX-FileName: kmann.nsf\\n\\nAbsolutely.  \\n\\n\\nFrom: Sheila Tweed@ECT on 05/15/2001 06:02 PM\\nTo: Kay Mann/Corp/Enron@ENRON\\ncc:  \\n\\nSubject: Re: Override letter  \\n\\nGood point!  Can Peter start to draft an override letter?\\n\\n\\n\\n\\tKay Mann@ENRON\\n\\t05/15/2001 05:55 PM\\n\\t\\t \\n\\t\\t To: pthompson@akllp.com\\n\\t\\t cc: Sheila Tweed/HOU/ECT@ECT, Roseann Engeldorf/Enron@EnronXGate, Scott \\nDieball/ENRON_DEVELOPMENT@ENRON_DEVELOPMENt, John G \\nRigby/ENRON_DEVELOPMENT@ENRON_DEVELOPMENT\\n\\t\\t Subject: Override letter\\n\\nAs a reminder to all of us, we will need a form override letter to go with \\nthe form turbine contract.  \\n\\nKay\\n\\n\\n\\n'"
      ]
     },
     "execution_count": 6,
     "metadata": {},
     "output_type": "execute_result"
    }
   ],
   "source": [
    "emails_df_sub['message'][1]"
   ]
  },
  {
   "cell_type": "markdown",
   "metadata": {},
   "source": [
    "## Pre-processing the data"
   ]
  },
  {
   "cell_type": "markdown",
   "metadata": {},
   "source": [
    "We would like to parse the message column into the respective columns within it. \n",
    "1. Make a new column for each key in the message column\n",
    "2. Split the email addresses \n",
    "3. Extract user name from file name"
   ]
  },
  {
   "cell_type": "code",
   "execution_count": 4,
   "metadata": {
    "collapsed": true
   },
   "outputs": [],
   "source": [
    "# Parse the emails into a list email objects\n",
    "messages = list(map(email.message_from_string, emails_df_sub['message']))\n",
    "emails_df_sub.drop('message', axis=1, inplace=True)"
   ]
  },
  {
   "cell_type": "code",
   "execution_count": 8,
   "metadata": {},
   "outputs": [
    {
     "data": {
      "text/plain": [
       "[('Message-ID', '<17820178.1075846925335.JavaMail.evans@thyme>'),\n",
       " ('Date', 'Tue, 4 Jan 2000 08:20:00 -0800 (PST)'),\n",
       " ('From', 'tana.jones@enron.com'),\n",
       " ('To', 'alicia.goodrow@enron.com'),\n",
       " ('Subject', 'Re: Dinner'),\n",
       " ('Mime-Version', '1.0'),\n",
       " ('Content-Type', 'text/plain; charset=us-ascii'),\n",
       " ('Content-Transfer-Encoding', '7bit'),\n",
       " ('X-From', 'Tana Jones'),\n",
       " ('X-To', 'Alicia Goodrow'),\n",
       " ('X-cc', ''),\n",
       " ('X-bcc', ''),\n",
       " ('X-Folder', '\\\\Tanya_Jones_Dec2000\\\\Notes Folders\\\\All documents'),\n",
       " ('X-Origin', 'JONES-T'),\n",
       " ('X-FileName', 'tjones.nsf')]"
      ]
     },
     "execution_count": 8,
     "metadata": {},
     "output_type": "execute_result"
    }
   ],
   "source": [
    "messages[0].items()"
   ]
  },
  {
   "cell_type": "code",
   "execution_count": 5,
   "metadata": {
    "collapsed": true
   },
   "outputs": [],
   "source": [
    "# Get fields from parsed email objects\n",
    "keys = messages[0].keys()\n",
    "for key in keys:\n",
    "    emails_df_sub[key] = [doc[key] for doc in messages]"
   ]
  },
  {
   "cell_type": "code",
   "execution_count": 6,
   "metadata": {
    "collapsed": true
   },
   "outputs": [],
   "source": [
    "# Parse content from emails\n",
    "emails_df_sub['content'] = list(map(get_text_from_email, messages))"
   ]
  },
  {
   "cell_type": "code",
   "execution_count": 7,
   "metadata": {
    "collapsed": true
   },
   "outputs": [],
   "source": [
    "# Split multiple email addresses\n",
    "emails_df_sub['From'] = emails_df_sub['From'].map(split_email_addresses)\n",
    "emails_df_sub['To'] = emails_df_sub['To'].map(split_email_addresses)"
   ]
  },
  {
   "cell_type": "code",
   "execution_count": 8,
   "metadata": {
    "collapsed": true
   },
   "outputs": [],
   "source": [
    "# Extract the root of 'file' as 'user'\n",
    "emails_df_sub['user'] = emails_df_sub['file'].map(lambda x:x.split('/')[0])\n",
    "del messages"
   ]
  },
  {
   "cell_type": "code",
   "execution_count": 13,
   "metadata": {},
   "outputs": [
    {
     "data": {
      "text/html": [
       "<div>\n",
       "<table border=\"1\" class=\"dataframe\">\n",
       "  <thead>\n",
       "    <tr style=\"text-align: right;\">\n",
       "      <th></th>\n",
       "      <th>file</th>\n",
       "      <th>Message-ID</th>\n",
       "      <th>Date</th>\n",
       "      <th>From</th>\n",
       "      <th>To</th>\n",
       "      <th>Subject</th>\n",
       "      <th>Mime-Version</th>\n",
       "      <th>Content-Type</th>\n",
       "      <th>Content-Transfer-Encoding</th>\n",
       "      <th>X-From</th>\n",
       "      <th>X-To</th>\n",
       "      <th>X-cc</th>\n",
       "      <th>X-bcc</th>\n",
       "      <th>X-Folder</th>\n",
       "      <th>X-Origin</th>\n",
       "      <th>X-FileName</th>\n",
       "      <th>content</th>\n",
       "      <th>user</th>\n",
       "    </tr>\n",
       "  </thead>\n",
       "  <tbody>\n",
       "    <tr>\n",
       "      <th>0</th>\n",
       "      <td>jones-t/all_documents/634.</td>\n",
       "      <td>&lt;17820178.1075846925335.JavaMail.evans@thyme&gt;</td>\n",
       "      <td>Tue, 4 Jan 2000 08:20:00 -0800 (PST)</td>\n",
       "      <td>(tana.jones@enron.com)</td>\n",
       "      <td>(alicia.goodrow@enron.com)</td>\n",
       "      <td>Re: Dinner</td>\n",
       "      <td>1.0</td>\n",
       "      <td>text/plain; charset=us-ascii</td>\n",
       "      <td>7bit</td>\n",
       "      <td>Tana Jones</td>\n",
       "      <td>Alicia Goodrow</td>\n",
       "      <td></td>\n",
       "      <td></td>\n",
       "      <td>\\Tanya_Jones_Dec2000\\Notes Folders\\All documents</td>\n",
       "      <td>JONES-T</td>\n",
       "      <td>tjones.nsf</td>\n",
       "      <td>It would be nice if you could be at my dinner,...</td>\n",
       "      <td>jones-t</td>\n",
       "    </tr>\n",
       "    <tr>\n",
       "      <th>1</th>\n",
       "      <td>mann-k/all_documents/5690.</td>\n",
       "      <td>&lt;29110382.1075845717882.JavaMail.evans@thyme&gt;</td>\n",
       "      <td>Tue, 15 May 2001 11:03:00 -0700 (PDT)</td>\n",
       "      <td>(kay.mann@enron.com)</td>\n",
       "      <td>(sheila.tweed@enron.com)</td>\n",
       "      <td>Re: Override letter</td>\n",
       "      <td>1.0</td>\n",
       "      <td>text/plain; charset=us-ascii</td>\n",
       "      <td>7bit</td>\n",
       "      <td>Kay Mann</td>\n",
       "      <td>Sheila Tweed</td>\n",
       "      <td></td>\n",
       "      <td></td>\n",
       "      <td>\\Kay_Mann_June2001_1\\Notes Folders\\All documents</td>\n",
       "      <td>MANN-K</td>\n",
       "      <td>kmann.nsf</td>\n",
       "      <td>Absolutely.  \\n\\n\\nFrom: Sheila Tweed@ECT on 0...</td>\n",
       "      <td>mann-k</td>\n",
       "    </tr>\n",
       "    <tr>\n",
       "      <th>2</th>\n",
       "      <td>dasovich-j/sent/423.</td>\n",
       "      <td>&lt;6812040.1075843194135.JavaMail.evans@thyme&gt;</td>\n",
       "      <td>Thu, 28 Sep 2000 08:59:00 -0700 (PDT)</td>\n",
       "      <td>(jeff.dasovich@enron.com)</td>\n",
       "      <td>(christine.piesco@oracle.com)</td>\n",
       "      <td>Teams</td>\n",
       "      <td>1.0</td>\n",
       "      <td>text/plain; charset=us-ascii</td>\n",
       "      <td>7bit</td>\n",
       "      <td>Jeff Dasovich</td>\n",
       "      <td>Christine.Piesco@oracle.com</td>\n",
       "      <td></td>\n",
       "      <td></td>\n",
       "      <td>\\Jeff_Dasovich_Dec2000\\Notes Folders\\Sent</td>\n",
       "      <td>DASOVICH-J</td>\n",
       "      <td>jdasovic.nsf</td>\n",
       "      <td>Christine:\\n\\nMy apologies.  My schedule melte...</td>\n",
       "      <td>dasovich-j</td>\n",
       "    </tr>\n",
       "    <tr>\n",
       "      <th>3</th>\n",
       "      <td>kaminski-v/var/63.</td>\n",
       "      <td>&lt;21547648.1075856642126.JavaMail.evans@thyme&gt;</td>\n",
       "      <td>Mon, 9 Oct 2000 01:23:00 -0700 (PDT)</td>\n",
       "      <td>(tanya.tamarchenko@enron.com)</td>\n",
       "      <td>(vince.kaminski@enron.com)</td>\n",
       "      <td>Re: FYI: UK Var issues</td>\n",
       "      <td>1.0</td>\n",
       "      <td>text/plain; charset=us-ascii</td>\n",
       "      <td>7bit</td>\n",
       "      <td>Tanya Tamarchenko</td>\n",
       "      <td>Vince J Kaminski</td>\n",
       "      <td></td>\n",
       "      <td></td>\n",
       "      <td>\\Vincent_Kaminski_Jun2001_5\\Notes Folders\\Var</td>\n",
       "      <td>Kaminski-V</td>\n",
       "      <td>vkamins.nsf</td>\n",
       "      <td>Vince, \\nUK VAR breached the limit last week.\\...</td>\n",
       "      <td>kaminski-v</td>\n",
       "    </tr>\n",
       "    <tr>\n",
       "      <th>4</th>\n",
       "      <td>mann-k/_sent_mail/3208.</td>\n",
       "      <td>&lt;12684200.1075846107179.JavaMail.evans@thyme&gt;</td>\n",
       "      <td>Fri, 13 Oct 2000 01:50:00 -0700 (PDT)</td>\n",
       "      <td>(kay.mann@enron.com)</td>\n",
       "      <td>(ben.jacoby@enron.com, lisa.bills@enron.com)</td>\n",
       "      <td>Change Order #5--Pleasanton Transformer</td>\n",
       "      <td>1.0</td>\n",
       "      <td>text/plain; charset=us-ascii</td>\n",
       "      <td>7bit</td>\n",
       "      <td>Kay Mann</td>\n",
       "      <td>Lisa Bills, Ben Jacoby</td>\n",
       "      <td></td>\n",
       "      <td></td>\n",
       "      <td>\\Kay_Mann_June2001_4\\Notes Folders\\'sent mail</td>\n",
       "      <td>MANN-K</td>\n",
       "      <td>kmann.nsf</td>\n",
       "      <td>Any problems/comments?\\n----------------------...</td>\n",
       "      <td>mann-k</td>\n",
       "    </tr>\n",
       "  </tbody>\n",
       "</table>\n",
       "</div>"
      ],
      "text/plain": [
       "                         file                                     Message-ID  \\\n",
       "0  jones-t/all_documents/634.  <17820178.1075846925335.JavaMail.evans@thyme>   \n",
       "1  mann-k/all_documents/5690.  <29110382.1075845717882.JavaMail.evans@thyme>   \n",
       "2        dasovich-j/sent/423.   <6812040.1075843194135.JavaMail.evans@thyme>   \n",
       "3          kaminski-v/var/63.  <21547648.1075856642126.JavaMail.evans@thyme>   \n",
       "4     mann-k/_sent_mail/3208.  <12684200.1075846107179.JavaMail.evans@thyme>   \n",
       "\n",
       "                                    Date                           From  \\\n",
       "0   Tue, 4 Jan 2000 08:20:00 -0800 (PST)         (tana.jones@enron.com)   \n",
       "1  Tue, 15 May 2001 11:03:00 -0700 (PDT)           (kay.mann@enron.com)   \n",
       "2  Thu, 28 Sep 2000 08:59:00 -0700 (PDT)      (jeff.dasovich@enron.com)   \n",
       "3   Mon, 9 Oct 2000 01:23:00 -0700 (PDT)  (tanya.tamarchenko@enron.com)   \n",
       "4  Fri, 13 Oct 2000 01:50:00 -0700 (PDT)           (kay.mann@enron.com)   \n",
       "\n",
       "                                             To  \\\n",
       "0                    (alicia.goodrow@enron.com)   \n",
       "1                      (sheila.tweed@enron.com)   \n",
       "2                 (christine.piesco@oracle.com)   \n",
       "3                    (vince.kaminski@enron.com)   \n",
       "4  (ben.jacoby@enron.com, lisa.bills@enron.com)   \n",
       "\n",
       "                                   Subject Mime-Version  \\\n",
       "0                               Re: Dinner          1.0   \n",
       "1                      Re: Override letter          1.0   \n",
       "2                                    Teams          1.0   \n",
       "3                   Re: FYI: UK Var issues          1.0   \n",
       "4  Change Order #5--Pleasanton Transformer          1.0   \n",
       "\n",
       "                   Content-Type Content-Transfer-Encoding             X-From  \\\n",
       "0  text/plain; charset=us-ascii                      7bit         Tana Jones   \n",
       "1  text/plain; charset=us-ascii                      7bit           Kay Mann   \n",
       "2  text/plain; charset=us-ascii                      7bit      Jeff Dasovich   \n",
       "3  text/plain; charset=us-ascii                      7bit  Tanya Tamarchenko   \n",
       "4  text/plain; charset=us-ascii                      7bit           Kay Mann   \n",
       "\n",
       "                          X-To X-cc X-bcc  \\\n",
       "0               Alicia Goodrow              \n",
       "1                 Sheila Tweed              \n",
       "2  Christine.Piesco@oracle.com              \n",
       "3             Vince J Kaminski              \n",
       "4       Lisa Bills, Ben Jacoby              \n",
       "\n",
       "                                           X-Folder    X-Origin    X-FileName  \\\n",
       "0  \\Tanya_Jones_Dec2000\\Notes Folders\\All documents     JONES-T    tjones.nsf   \n",
       "1  \\Kay_Mann_June2001_1\\Notes Folders\\All documents      MANN-K     kmann.nsf   \n",
       "2         \\Jeff_Dasovich_Dec2000\\Notes Folders\\Sent  DASOVICH-J  jdasovic.nsf   \n",
       "3     \\Vincent_Kaminski_Jun2001_5\\Notes Folders\\Var  Kaminski-V   vkamins.nsf   \n",
       "4     \\Kay_Mann_June2001_4\\Notes Folders\\'sent mail      MANN-K     kmann.nsf   \n",
       "\n",
       "                                             content        user  \n",
       "0  It would be nice if you could be at my dinner,...     jones-t  \n",
       "1  Absolutely.  \\n\\n\\nFrom: Sheila Tweed@ECT on 0...      mann-k  \n",
       "2  Christine:\\n\\nMy apologies.  My schedule melte...  dasovich-j  \n",
       "3  Vince, \\nUK VAR breached the limit last week.\\...  kaminski-v  \n",
       "4  Any problems/comments?\\n----------------------...      mann-k  "
      ]
     },
     "execution_count": 13,
     "metadata": {},
     "output_type": "execute_result"
    }
   ],
   "source": [
    "emails_df_sub.head()"
   ]
  },
  {
   "cell_type": "code",
   "execution_count": 14,
   "metadata": {},
   "outputs": [
    {
     "name": "stdout",
     "output_type": "stream",
     "text": [
      "('shape of the dataframe:', (5000, 18))\n",
      "('file', 5000)\n",
      "('Message-ID', 5000)\n",
      "('Date', 4891)\n",
      "('From', 1666)\n",
      "('To', 2864)\n",
      "('Subject', 4465)\n",
      "('Mime-Version', 1)\n",
      "('Content-Type', 2)\n",
      "('Content-Transfer-Encoding', 2)\n",
      "('X-From', 1929)\n",
      "('X-To', 3312)\n",
      "('X-cc', 1035)\n",
      "('X-bcc', 4)\n",
      "('X-Folder', 1378)\n",
      "('X-Origin', 243)\n",
      "('X-FileName', 376)\n",
      "('content', 4924)\n",
      "('user', 149)\n"
     ]
    }
   ],
   "source": [
    "print('shape of the dataframe:', emails_df_sub.shape)\n",
    "# Find number of unique values in each columns\n",
    "for col in emails_df_sub.columns:\n",
    "    print(col, emails_df_sub[col].nunique())"
   ]
  },
  {
   "cell_type": "markdown",
   "metadata": {},
   "source": [
    "## Group the emails by the user "
   ]
  },
  {
   "cell_type": "code",
   "execution_count": 9,
   "metadata": {
    "collapsed": true
   },
   "outputs": [],
   "source": [
    "emails_df_sub_grouped = emails_df_sub.groupby('user')['content'].apply(lambda x: x.sum()).reset_index().groupby('user')['content'].apply(lambda x: x.sum()).reset_index()"
   ]
  },
  {
   "cell_type": "code",
   "execution_count": 10,
   "metadata": {
    "collapsed": true
   },
   "outputs": [],
   "source": [
    "from_df = emails_df_sub.groupby('X-From')['content'].apply(lambda x: x.sum()).reset_index().groupby('X-From')['content'].apply(lambda x: x.sum()).reset_index()"
   ]
  },
  {
   "cell_type": "markdown",
   "metadata": {},
   "source": [
    "## More pre-processing"
   ]
  },
  {
   "cell_type": "markdown",
   "metadata": {},
   "source": [
    "Now, we can pre-process the emails by doing the following:\n",
    "1. removing website urls\n",
    "2. standardizing words\n",
    "3. removing puncuation\n",
    "4. remove all numbers\n",
    "5. removing stop words\n",
    "6. removing chat words"
   ]
  },
  {
   "cell_type": "code",
   "execution_count": 17,
   "metadata": {
    "collapsed": true
   },
   "outputs": [],
   "source": [
    "stop = stopwords.words('english')\n",
    "exclude = set(string.punctuation)\n",
    "exclude.update({'\\n', '\\t', '75pt', 'font size','padding', '0pt', 'td', 'font'})\n",
    "chat_words_lower = sorted(set(w.lower() for w in nltk.corpus.nps_chat.words()))"
   ]
  },
  {
   "cell_type": "code",
   "execution_count": 18,
   "metadata": {},
   "outputs": [
    {
     "name": "stdout",
     "output_type": "stream",
     "text": [
      "set(['\\t', '\\n', 'font size', 'font', '!', '#', '\"', '%', '$', \"'\", '&', ')', '(', '+', '*', '-', ',', '/', '.', ';', ':', '=', '<', '?', '>', '@', 'padding', 'td', '0pt', '[', ']', '\\\\', '_', '^', '`', '75pt', '{', '}', '|', '~'])\n"
     ]
    }
   ],
   "source": [
    "print exclude"
   ]
  },
  {
   "cell_type": "code",
   "execution_count": 19,
   "metadata": {
    "collapsed": true
   },
   "outputs": [],
   "source": [
    "def clean(doc):\n",
    "    try:\n",
    "        doc['content'] = ''.join(''.join(s)[:2] for _, s in itertools.groupby(doc['content']))\n",
    "        doc['content'] = re.sub(r'http\\S+', '', doc['content'])\n",
    "        doc['content'] = ''.join([i for i in doc['content'] if not i.isdigit()])\n",
    "        doc['content'] = ' '.join([i for i in doc['content'].lower().split(' ') if i not in stop])\n",
    "        doc['content'] = ' '.join([i for i in doc['content'].lower().split(' ') if i not in chat_words_lower])\n",
    "        doc['content'] = ''.join(ch for ch in doc['content'] if ch not in exclude)\n",
    "    except:\n",
    "        doc['content'] = ''\n",
    "    return doc['content']"
   ]
  },
  {
   "cell_type": "code",
   "execution_count": 20,
   "metadata": {
    "collapsed": true
   },
   "outputs": [],
   "source": [
    "emails_df_sub_grouped['content'] = emails_df_sub_grouped.apply(clean, axis=1)"
   ]
  },
  {
   "cell_type": "code",
   "execution_count": 21,
   "metadata": {},
   "outputs": [
    {
     "data": {
      "text/html": [
       "<div>\n",
       "<table border=\"1\" class=\"dataframe\">\n",
       "  <thead>\n",
       "    <tr style=\"text-align: right;\">\n",
       "      <th></th>\n",
       "      <th>X-From</th>\n",
       "      <th>content</th>\n",
       "    </tr>\n",
       "  </thead>\n",
       "  <tbody>\n",
       "    <tr>\n",
       "      <th>0</th>\n",
       "      <td>\" EquityAlert.com Special Offer \" &lt;support@equ...</td>\n",
       "      <td>imageimageimageimageimageimageimageimageimagei...</td>\n",
       "    </tr>\n",
       "    <tr>\n",
       "      <th>1</th>\n",
       "      <td>\"1-800-FLOWERS.COM\" &lt;1800flowers@1800flowers.f...</td>\n",
       "      <td>connection flowerscom  students survival stud...</td>\n",
       "    </tr>\n",
       "    <tr>\n",
       "      <th>2</th>\n",
       "      <td>\"Aaron Roffwarg\" &lt;aroffwarg@bracepatt.com&gt;</td>\n",
       "      <td>attached review documents amendment securities...</td>\n",
       "    </tr>\n",
       "    <tr>\n",
       "      <th>3</th>\n",
       "      <td>\"Adib, Parviz\" &lt;Parviz.Adib@puc.state.tx.us&gt;</td>\n",
       "      <td>attached puc staff regardingthe ercot protocol...</td>\n",
       "    </tr>\n",
       "    <tr>\n",
       "      <th>4</th>\n",
       "      <td>\"Al Arfsten\" &lt;arfsten@bflassociates.com&gt;@ENRON</td>\n",
       "      <td>vince returned breakfast earliest convenience ...</td>\n",
       "    </tr>\n",
       "  </tbody>\n",
       "</table>\n",
       "</div>"
      ],
      "text/plain": [
       "                                              X-From  \\\n",
       "0  \" EquityAlert.com Special Offer \" <support@equ...   \n",
       "1  \"1-800-FLOWERS.COM\" <1800flowers@1800flowers.f...   \n",
       "2         \"Aaron Roffwarg\" <aroffwarg@bracepatt.com>   \n",
       "3       \"Adib, Parviz\" <Parviz.Adib@puc.state.tx.us>   \n",
       "4     \"Al Arfsten\" <arfsten@bflassociates.com>@ENRON   \n",
       "\n",
       "                                             content  \n",
       "0  imageimageimageimageimageimageimageimageimagei...  \n",
       "1   connection flowerscom  students survival stud...  \n",
       "2  attached review documents amendment securities...  \n",
       "3  attached puc staff regardingthe ercot protocol...  \n",
       "4  vince returned breakfast earliest convenience ...  "
      ]
     },
     "execution_count": 21,
     "metadata": {},
     "output_type": "execute_result"
    }
   ],
   "source": [
    "from_df['content']=from_df.apply(clean, axis=1)\n",
    "from_df.head()"
   ]
  },
  {
   "cell_type": "code",
   "execution_count": 25,
   "metadata": {
    "collapsed": true
   },
   "outputs": [],
   "source": [
    "from textblob import TextBlob\n",
    "from_df['sentiment'] = (TextBlob(str(from_df['content']))).sentiment.polarity"
   ]
  },
  {
   "cell_type": "code",
   "execution_count": 26,
   "metadata": {},
   "outputs": [
    {
     "data": {
      "text/html": [
       "<div>\n",
       "<table border=\"1\" class=\"dataframe\">\n",
       "  <thead>\n",
       "    <tr style=\"text-align: right;\">\n",
       "      <th></th>\n",
       "      <th>X-From</th>\n",
       "      <th>content</th>\n",
       "      <th>sentiment</th>\n",
       "    </tr>\n",
       "  </thead>\n",
       "  <tbody>\n",
       "    <tr>\n",
       "      <th>0</th>\n",
       "      <td>\" EquityAlert.com Special Offer \" &lt;support@equ...</td>\n",
       "      <td>imageimageimageimageimageimageimageimageimagei...</td>\n",
       "      <td>0.024275</td>\n",
       "    </tr>\n",
       "    <tr>\n",
       "      <th>1</th>\n",
       "      <td>\"1-800-FLOWERS.COM\" &lt;1800flowers@1800flowers.f...</td>\n",
       "      <td>connection flowerscom  students survival stud...</td>\n",
       "      <td>0.024275</td>\n",
       "    </tr>\n",
       "    <tr>\n",
       "      <th>2</th>\n",
       "      <td>\"Aaron Roffwarg\" &lt;aroffwarg@bracepatt.com&gt;</td>\n",
       "      <td>attached review documents amendment securities...</td>\n",
       "      <td>0.024275</td>\n",
       "    </tr>\n",
       "    <tr>\n",
       "      <th>3</th>\n",
       "      <td>\"Adib, Parviz\" &lt;Parviz.Adib@puc.state.tx.us&gt;</td>\n",
       "      <td>attached puc staff regardingthe ercot protocol...</td>\n",
       "      <td>0.024275</td>\n",
       "    </tr>\n",
       "    <tr>\n",
       "      <th>4</th>\n",
       "      <td>\"Al Arfsten\" &lt;arfsten@bflassociates.com&gt;@ENRON</td>\n",
       "      <td>vince returned breakfast earliest convenience ...</td>\n",
       "      <td>0.024275</td>\n",
       "    </tr>\n",
       "  </tbody>\n",
       "</table>\n",
       "</div>"
      ],
      "text/plain": [
       "                                              X-From  \\\n",
       "0  \" EquityAlert.com Special Offer \" <support@equ...   \n",
       "1  \"1-800-FLOWERS.COM\" <1800flowers@1800flowers.f...   \n",
       "2         \"Aaron Roffwarg\" <aroffwarg@bracepatt.com>   \n",
       "3       \"Adib, Parviz\" <Parviz.Adib@puc.state.tx.us>   \n",
       "4     \"Al Arfsten\" <arfsten@bflassociates.com>@ENRON   \n",
       "\n",
       "                                             content  sentiment  \n",
       "0  imageimageimageimageimageimageimageimageimagei...   0.024275  \n",
       "1   connection flowerscom  students survival stud...   0.024275  \n",
       "2  attached review documents amendment securities...   0.024275  \n",
       "3  attached puc staff regardingthe ercot protocol...   0.024275  \n",
       "4  vince returned breakfast earliest convenience ...   0.024275  "
      ]
     },
     "execution_count": 26,
     "metadata": {},
     "output_type": "execute_result"
    }
   ],
   "source": [
    "from_df.head()"
   ]
  },
  {
   "cell_type": "code",
   "execution_count": 22,
   "metadata": {},
   "outputs": [
    {
     "data": {
      "text/html": [
       "<div>\n",
       "<table border=\"1\" class=\"dataframe\">\n",
       "  <thead>\n",
       "    <tr style=\"text-align: right;\">\n",
       "      <th></th>\n",
       "      <th>user</th>\n",
       "      <th>content</th>\n",
       "    </tr>\n",
       "  </thead>\n",
       "  <tbody>\n",
       "    <tr>\n",
       "      <th>0</th>\n",
       "      <td>allen-p</td>\n",
       "      <td>unsubscribe click here if received error reply...</td>\n",
       "    </tr>\n",
       "    <tr>\n",
       "      <th>1</th>\n",
       "      <td>arnold-j</td>\n",
       "      <td>themerrol mclaughlinenron amto arnoldhouectect...</td>\n",
       "    </tr>\n",
       "    <tr>\n",
       "      <th>2</th>\n",
       "      <td>arora-h</td>\n",
       "      <td>request pending approval days click review upo...</td>\n",
       "    </tr>\n",
       "    <tr>\n",
       "      <th>3</th>\n",
       "      <td>badeer-r</td>\n",
       "      <td>thursday attached presentation ferc staff the ...</td>\n",
       "    </tr>\n",
       "    <tr>\n",
       "      <th>4</th>\n",
       "      <td>bailey-s</td>\n",
       "      <td>edwardi noticed senior designation strange yes...</td>\n",
       "    </tr>\n",
       "  </tbody>\n",
       "</table>\n",
       "</div>"
      ],
      "text/plain": [
       "       user                                            content\n",
       "0   allen-p  unsubscribe click here if received error reply...\n",
       "1  arnold-j  themerrol mclaughlinenron amto arnoldhouectect...\n",
       "2   arora-h  request pending approval days click review upo...\n",
       "3  badeer-r  thursday attached presentation ferc staff the ...\n",
       "4  bailey-s  edwardi noticed senior designation strange yes..."
      ]
     },
     "execution_count": 22,
     "metadata": {},
     "output_type": "execute_result"
    }
   ],
   "source": [
    "emails_df_sub_grouped.head()"
   ]
  },
  {
   "cell_type": "markdown",
   "metadata": {},
   "source": [
    "<h2>WordCloud!</h2>"
   ]
  },
  {
   "cell_type": "code",
   "execution_count": 20,
   "metadata": {},
   "outputs": [
    {
     "data": {
      "image/png": "[encoded data removed]",
      "text/plain": [
       "<matplotlib.figure.Figure at 0x6c7c06d8>"
      ]
     },
     "metadata": {},
     "output_type": "display_data"
    }
   ],
   "source": [
    "from wordcloud import WordCloud\n",
    "\n",
    "\n",
    "\n",
    "plt.figure(figsize=(18,12))\n",
    "wordcloud = WordCloud(background_color='white', width=600, height=300, max_font_size=50, max_words=40).generate(' '.join(test['content']))\n",
    "wordcloud.recolor(random_state=0)\n",
    "plt.imshow(wordcloud)\n",
    "plt.title(\"Wordcloud for content\", fontsize=30)\n",
    "plt.axis(\"off\")\n",
    "plt.show()"
   ]
  },
  {
   "cell_type": "code",
   "execution_count": null,
   "metadata": {
    "collapsed": true
   },
   "outputs": [],
   "source": [
    "training = emails_df_sub_grouped.sample(frac=0.7, random_state=0).reset_index(drop=True)\n",
    "testing = emails_df_sub_grouped.loc[~emails_df_sub_grouped.index.isin(training.index)].reset_index(drop=True)"
   ]
  },
  {
   "cell_type": "code",
   "execution_count": null,
   "metadata": {
    "collapsed": true
   },
   "outputs": [],
   "source": [
    "testing"
   ]
  },
  {
   "cell_type": "code",
   "execution_count": null,
   "metadata": {
    "collapsed": true
   },
   "outputs": [],
   "source": [
    "training_corpus = training.values.tolist()\n",
    "testing_corpus = testing.values.tolist()"
   ]
  },
  {
   "cell_type": "markdown",
   "metadata": {},
   "source": [
    "## Applying CountVectorizer"
   ]
  },
  {
   "cell_type": "code",
   "execution_count": null,
   "metadata": {
    "collapsed": true
   },
   "outputs": [],
   "source": [
    "# import\n",
    "from sklearn.feature_extraction.text import CountVectorizer"
   ]
  },
  {
   "cell_type": "code",
   "execution_count": null,
   "metadata": {
    "collapsed": true
   },
   "outputs": [],
   "source": [
    "# instantiate\n",
    "vect = CountVectorizer(analyzer='word', ngram_range=(1,2), min_df=0.5, max_df=0.95, stop_words = 'english')"
   ]
  },
  {
   "cell_type": "code",
   "execution_count": null,
   "metadata": {
    "collapsed": true
   },
   "outputs": [],
   "source": [
    "# fit & transform\n",
    "tf_matrix = vect.fit_transform([content for file, content in training_corpus])\n",
    "\n",
    "print('Number of documents:', tf_matrix.shape[0], ', number of features:', tf_matrix.shape[1])"
   ]
  },
  {
   "cell_type": "code",
   "execution_count": null,
   "metadata": {
    "collapsed": true
   },
   "outputs": [],
   "source": [
    "vect.get_feature_names()"
   ]
  },
  {
   "cell_type": "code",
   "execution_count": null,
   "metadata": {
    "collapsed": true
   },
   "outputs": [],
   "source": [
    "# convert sparse matrix to a dense matrix\n",
    "tf_matrix.toarray()"
   ]
  },
  {
   "cell_type": "code",
   "execution_count": null,
   "metadata": {
    "collapsed": true
   },
   "outputs": [],
   "source": [
    "# examine the vocabulary and document-term matrix together\n",
    "feature_matrix = pd.DataFrame(tf_matrix.toarray(), columns=vect.get_feature_names())\n",
    "feature_matrix"
   ]
  },
  {
   "cell_type": "markdown",
   "metadata": {},
   "source": [
    "## Applying TF_IDF"
   ]
  },
  {
   "cell_type": "markdown",
   "metadata": {},
   "source": [
    "The goal of using tf-idf instead of the raw frequencies of occurrence of a\n",
    "    token in a given document is to scale down the impact of tokens that occur\n",
    "    very frequently in a given corpus and that are hence empirically less\n",
    "    informative than features that occur in a small fraction of the training\n",
    "    corpus.\n",
    "    \n",
    " The formula that is used to compute the tf-idf of term t is\n",
    "    tf-idf(d, t) = tf(t) * idf(d, t), and the idf is computed as\n",
    "    idf(d, t) = log [ n / df(d, t) ] + 1 (if ``smooth_idf=False``),\n",
    "    where n is the total number of documents and df(d, t) is the\n",
    "    document frequency; the document frequency is the number of documents d\n",
    "    that contain term t. The effect of adding \"1\" to the idf in the equation\n",
    "    above is that terms with zero idf, i.e., terms  that occur in all documents\n",
    "    in a training set, will not be entirely ignored.\n",
    "    (Note that the idf formula above differs from the standard\n",
    "    textbook notation that defines the idf as\n",
    "    idf(d, t) = log [ n / (df(d, t) + 1) ])."
   ]
  },
  {
   "cell_type": "code",
   "execution_count": null,
   "metadata": {
    "collapsed": true
   },
   "outputs": [],
   "source": [
    "# import\n",
    "from sklearn.feature_extraction.text import TfidfVectorizer"
   ]
  },
  {
   "cell_type": "code",
   "execution_count": null,
   "metadata": {
    "collapsed": true
   },
   "outputs": [],
   "source": [
    "# instantiate\n",
    "tf = TfidfVectorizer(analyzer='word', ngram_range=(1,2), min_df=0.5, max_df=0.95, stop_words = 'english', norm='l2')"
   ]
  },
  {
   "cell_type": "code",
   "execution_count": null,
   "metadata": {
    "collapsed": true
   },
   "outputs": [],
   "source": [
    "# fit & transform\n",
    "tfidf_matrix = tf.fit_transform([content for file, content in training_corpus])\n",
    "\n",
    "print('Number of documents:', tfidf_matrix.shape[0], ', number of features:', tfidf_matrix.shape[1])"
   ]
  },
  {
   "cell_type": "code",
   "execution_count": null,
   "metadata": {
    "collapsed": true
   },
   "outputs": [],
   "source": [
    "tf.get_feature_names()"
   ]
  },
  {
   "cell_type": "code",
   "execution_count": null,
   "metadata": {
    "collapsed": true
   },
   "outputs": [],
   "source": [
    "# convert sparse matrix to a dense matrix\n",
    "tfidf_matrix.toarray()"
   ]
  },
  {
   "cell_type": "code",
   "execution_count": null,
   "metadata": {
    "collapsed": true
   },
   "outputs": [],
   "source": [
    "# examine the vocabulary and document-term matrix together\n",
    "feature_matrix = pd.DataFrame(tfidf_matrix.toarray(), columns=tf.get_feature_names())\n",
    "feature_matrix"
   ]
  },
  {
   "cell_type": "markdown",
   "metadata": {},
   "source": [
    "## Testing Similarity using Cosine"
   ]
  },
  {
   "cell_type": "markdown",
   "metadata": {},
   "source": [
    "For this part, we are taking an observation outside of the training set (i.e. in the testing set) and t"
   ]
  },
  {
   "cell_type": "code",
   "execution_count": null,
   "metadata": {
    "collapsed": true
   },
   "outputs": [],
   "source": [
    "testing_corpus[13]"
   ]
  },
  {
   "cell_type": "code",
   "execution_count": null,
   "metadata": {
    "collapsed": true
   },
   "outputs": [],
   "source": [
    "new_email = [testing_corpus[13]]"
   ]
  },
  {
   "cell_type": "code",
   "execution_count": null,
   "metadata": {
    "collapsed": true
   },
   "outputs": [],
   "source": [
    "new = tf.transform([content for file, content in new_email])"
   ]
  },
  {
   "cell_type": "code",
   "execution_count": null,
   "metadata": {
    "collapsed": true
   },
   "outputs": [],
   "source": [
    "def find_similar(tfidf_matrix, new_movie, top_n = 1000):\n",
    "    cosine_similarities = linear_kernel(new_movie, tfidf_matrix).flatten()\n",
    "    related_docs_indices = [i for i in cosine_similarities.argsort()[::-1]]\n",
    "    return [(index, cosine_similarities[index]) for index in related_docs_indices][0:top_n]"
   ]
  },
  {
   "cell_type": "code",
   "execution_count": null,
   "metadata": {
    "collapsed": true
   },
   "outputs": [],
   "source": [
    "similarity = pd.DataFrame()\n",
    "for index, score in find_similar(tfidf_matrix, new):\n",
    "    similarity = similarity.append(pd.DataFrame({'similarity_score':score, 'person':training_corpus[index][0]}, index=[0]), ignore_index=True)\n",
    "similarity.head()"
   ]
  },
  {
   "cell_type": "markdown",
   "metadata": {},
   "source": [
    "http://www.foxnews.com/story/2004/07/08/fast-facts-key-enron-players.html"
   ]
  },
  {
   "cell_type": "code",
   "execution_count": null,
   "metadata": {
    "collapsed": true
   },
   "outputs": [],
   "source": []
  }
 ],
 "metadata": {
  "kernelspec": {
   "display_name": "Python 3",
   "language": "python",
   "name": "python3"
  },
  "language_info": {
   "codemirror_mode": {
    "name": "ipython",
    "version": 3
   },
   "file_extension": ".py",
   "mimetype": "text/x-python",
   "name": "python",
   "nbconvert_exporter": "python",
   "pygments_lexer": "ipython3",
   "version": "3.6.1"
  }
 },
 "nbformat": 4,
 "nbformat_minor": 2
}
