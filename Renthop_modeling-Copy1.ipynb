{
 "cells": [
  {
   "cell_type": "markdown",
   "metadata": {},
   "source": [
    "<h1>Using Renthop data to find whether a rental listing is of High, Medium or low interest</h1>"
   ]
  },
  {
   "cell_type": "code",
   "execution_count": 3,
   "metadata": {
    "collapsed": false
   },
   "outputs": [],
   "source": [
    "#begin with standard imports\n",
    "import pandas as pd\n",
    "import numpy as np\n",
    "import matplotlib.pyplot as plt\n",
    "import seaborn as sns\n",
    "%matplotlib inline\n",
    "\n",
    "#import modeling algorithms\n",
    "from sklearn.tree import DecisionTreeClassifier\n",
    "from sklearn.linear_model import LogisticRegression\n",
    "from sklearn.neighbors import KNeighborsClassifier\n",
    "from sklearn.naive_bayes import GaussianNB\n",
    "from sklearn.svm import SVC, LinearSVC\n",
    "from sklearn.ensemble import RandomForestClassifier, GradientBoostingClassifier\n",
    "from sklearn.cross_validation import train_test_split , StratifiedKFold\n",
    "from sklearn.feature_selection import RFECV\n",
    "from sklearn.metrics import log_loss\n",
    "from sklearn.feature_extraction.text import TfidfVectorizer, CountVectorizer"
   ]
  },
  {
   "cell_type": "code",
   "execution_count": 4,
   "metadata": {
    "collapsed": false
   },
   "outputs": [
    {
     "name": "stdout",
     "output_type": "stream",
     "text": [
      "('The test dataset:', (74659, 14), 'The train dataset', (49352, 15), 'The whole dataset: ', (124011, 15))\n"
     ]
    }
   ],
   "source": [
    "train_df = pd.read_json('renthop/train.json/train.json')\n",
    "test_df = pd.read_json('renthop/test.json/test.json')\n",
    "full_df = train_df.append(test_df, ignore_index = True)\n",
    "df = full_df[:49352]\n",
    "print('The test dataset:', test_df.shape, 'The train dataset', train_df.shape, 'The whole dataset: ', full_df.shape)"
   ]
  },
  {
   "cell_type": "markdown",
   "metadata": {},
   "source": [
    "<h4>The test dataset has one less column because the train dataset includes the interest level</h4>"
   ]
  },
  {
   "cell_type": "code",
   "execution_count": 4,
   "metadata": {
    "collapsed": false
   },
   "outputs": [
    {
     "data": {
      "text/plain": [
       "(49352, 15)"
      ]
     },
     "execution_count": 4,
     "metadata": {},
     "output_type": "execute_result"
    }
   ],
   "source": [
    "df.shape"
   ]
  },
  {
   "cell_type": "markdown",
   "metadata": {},
   "source": [
    "<h3>Convert the 'created' column to date time for easier analysis</h3>"
   ]
  },
  {
   "cell_type": "code",
   "execution_count": 5,
   "metadata": {
    "collapsed": true
   },
   "outputs": [],
   "source": [
    "full_df['created']=pd.to_datetime(df['created'])\n",
    "full_df['year']=full_df['created'].dt.year\n",
    "full_df['month'] = full_df['created'].dt.month\n",
    "full_df['day'] = full_df['created'].dt.day"
   ]
  },
  {
   "cell_type": "markdown",
   "metadata": {},
   "source": [
    "<h3>Since our dataframe is full of categorical variables the easiest way to fit those into a model algorithm is to simply take the amount of those variables i.e. the more 'features' the better</h3> "
   ]
  },
  {
   "cell_type": "code",
   "execution_count": 6,
   "metadata": {
    "collapsed": true
   },
   "outputs": [],
   "source": [
    "full_df['len_photos'] = full_df['photos'].apply(len)\n",
    "full_df['len_features'] = full_df['features'].apply(len)\n",
    "full_df['len_desc'] = df['description'].apply(lambda x: len(x.split(\" \")))"
   ]
  },
  {
   "cell_type": "code",
   "execution_count": 7,
   "metadata": {
    "collapsed": true
   },
   "outputs": [],
   "source": [
    "cols_to_keep = ['bathrooms', 'bedrooms', 'latitude', \n",
    "                'longitude', 'price', 'len_photos', \n",
    "                'len_features', 'len_desc', 'year', \n",
    "                'month', 'day']\n",
    "df = full_df[:49352]"
   ]
  },
  {
   "cell_type": "code",
   "execution_count": 8,
   "metadata": {
    "collapsed": true
   },
   "outputs": [],
   "source": [
    "X = df[cols_to_keep]\n",
    "y = df['interest_level']\n",
    "X_train, X_val, y_train, y_val = train_test_split(X,y, test_size=0.33)"
   ]
  },
  {
   "cell_type": "code",
   "execution_count": 9,
   "metadata": {
    "collapsed": false
   },
   "outputs": [
    {
     "data": {
      "text/plain": [
       "0.64024243797863556"
      ]
     },
     "execution_count": 9,
     "metadata": {},
     "output_type": "execute_result"
    }
   ],
   "source": [
    "model = RandomForestClassifier(n_estimators=1000)\n",
    "model.fit(X_train, y_train)\n",
    "y_val_pred = model.predict_proba(X_val)\n",
    "log_loss(y_val, y_val_pred)"
   ]
  },
  {
   "cell_type": "code",
   "execution_count": null,
   "metadata": {
    "collapsed": true
   },
   "outputs": [],
   "source": [
    "model = GradientBoostingClassifier()\n",
    "clf.model(X_train, y_train)\n",
    "y_val_pred = clf.predict_proba(X_val)\n",
    "log_loss(y_val, y_val_pred)"
   ]
  },
  {
   "cell_type": "code",
   "execution_count": null,
   "metadata": {
    "collapsed": true
   },
   "outputs": [],
   "source": [
    "model = GaussianNB()\n",
    "model.fit(X_train, y_train)\n",
    "y_val_pred = model.predict_proba(X_val)\n",
    "log_loss(y_val, y_val_pred)"
   ]
  },
  {
   "cell_type": "code",
   "execution_count": null,
   "metadata": {
    "collapsed": true
   },
   "outputs": [],
   "source": [
    "model = LogisticRegression()\n",
    "model.fit(X_train, y_train)\n",
    "y_val_pred = model.predict_proba(X_val)\n",
    "log_loss(y_val, y_val_pred)"
   ]
  },
  {
   "cell_type": "code",
   "execution_count": 35,
   "metadata": {
    "collapsed": false
   },
   "outputs": [
    {
     "data": {
      "text/plain": [
       "6.0017451126330039"
      ]
     },
     "execution_count": 35,
     "metadata": {},
     "output_type": "execute_result"
    }
   ],
   "source": [
    "model = KNeighborsClassifier(n_neighbors = 3)\n",
    "model.fit(X_train, y_train)\n",
    "y_val_pred = model.predict_proba(X_val)\n",
    "log_loss(y_val, y_val_pred)"
   ]
  },
  {
   "cell_type": "markdown",
   "metadata": {},
   "source": [
    "<h1>Now that we have a baseline Logloss let's do some feature engineering</h1>"
   ]
  },
  {
   "cell_type": "code",
   "execution_count": null,
   "metadata": {
    "collapsed": true
   },
   "outputs": [],
   "source": [
    "for each in full_df['features']:\n",
    "    for item in each:\n",
    "        item.encode('utf-8')\n",
    "        full_df['features']== item\n",
    "return item"
   ]
  },
  {
   "cell_type": "code",
   "execution_count": 10,
   "metadata": {
    "collapsed": true
   },
   "outputs": [],
   "source": [
    "import unicodedata\n",
    "\n",
    "full_df['features'] = full_df['features'].map (lambda each_row: [unicodedata.normalize('NFKD', x).encode('ascii','ignore') for x in each_row])"
   ]
  },
  {
   "cell_type": "code",
   "execution_count": 11,
   "metadata": {
    "collapsed": true
   },
   "outputs": [],
   "source": [
    "full_df[['features1']] = full_df[[\"features\"]].apply(\n",
    "    lambda _: [list(map(str.strip, map(str.lower, x))) for x in _])"
   ]
  },
  {
   "cell_type": "code",
   "execution_count": 12,
   "metadata": {
    "collapsed": false
   },
   "outputs": [
    {
     "data": {
      "text/plain": [
       "0                                                   []\n",
       "1    [doorman, elevator, fitness center, cats allow...\n",
       "2    [laundry in building, dishwasher, hardwood flo...\n",
       "3                            [hardwood floors, no fee]\n",
       "4                                            [pre-war]\n",
       "Name: features1, dtype: object"
      ]
     },
     "execution_count": 12,
     "metadata": {},
     "output_type": "execute_result"
    }
   ],
   "source": [
    "full_df['features1'].head()"
   ]
  },
  {
   "cell_type": "code",
   "execution_count": 13,
   "metadata": {
    "collapsed": true
   },
   "outputs": [],
   "source": [
    "def clean(s):\n",
    "    if s is None:\n",
    "        return \"\"\n",
    "    else:\n",
    "        for a in s:\n",
    "            a = [x.replace('-',' ') for x in a]\n",
    "            a = [x.replace('_',' ') for x in a]\n",
    "            a = [x.replace('&','and') for x in a]\n",
    "            a = [x.replace('24/7','24') for x in a]\n",
    "            a = [x.replace('24hr','24') for x in a]\n",
    "            a = [x.replace('24hour','24') for x in a]\n",
    "            a = [x.replace('24 hour','24') for x in a]\n",
    "            a = [x.replace('a/c','aircon') for x in a]\n",
    "            a = [x.replace('air conditioner','aircon') for x in a]\n",
    "            a = [x.replace('bicycle','bike') for x in a]\n",
    "            a = [x.replace('concierge service','doorman') for x in a]\n",
    "            a = [x.replace('concierge','doorman') for x in a]\n",
    "            a = [x.replace('counter tops', 'counters') for x in a]\n",
    "            a = [x.replace('countertops', 'counters') for x in a]\n",
    "            a = [x.replace('granite kitchen', 'granite counters') for x in a]\n",
    "            a = [x.replace('dish washer', 'dishwasher') for x in a]\n",
    "            a = [x.replace('full time', 'ft') for x in a]\n",
    "            a = [x.replace('indoor swimming pool', 'indoor pool') for x in a]\n",
    "            a = [x.replace('laundry on every floor', 'laundry on floor') for x in a]\n",
    "            a = [x.replace('media screening room', 'media room') for x in a]\n",
    "            a = [x.replace('no fee', '') for x in a]\n",
    "            a = [x.replace('one month free rent', 'one month free') for x in a]\n",
    "            a = [x.replace('prewar', 'pre war') for x in a]\n",
    "            a = [x.replace('roofdeck', 'roof deck') for x in a]\n",
    "            a = [x.replace('ss appliance', 'stainless') for x in a]\n",
    "            a = [x.replace('storage facilities', 'storage') for x in a]\n",
    "            a = [x.replace('twenty four hour', '24') for x in a]\n",
    "            a = [x.replace('washer and dryer', 'washer/dryer') for x in a]\n",
    "            a = [x.replace('wi fi', 'wifi') for x in a]\n",
    "            return a\n"
   ]
  },
  {
   "cell_type": "code",
   "execution_count": 14,
   "metadata": {
    "collapsed": true
   },
   "outputs": [],
   "source": [
    "for x in full_df['features1']:\n",
    "    full_df['features1'] = clean(x)"
   ]
  },
  {
   "cell_type": "code",
   "execution_count": 15,
   "metadata": {
    "collapsed": false
   },
   "outputs": [
    {
     "data": {
      "text/html": [
       "<div>\n",
       "<table border=\"1\" class=\"dataframe\">\n",
       "  <thead>\n",
       "    <tr style=\"text-align: right;\">\n",
       "      <th></th>\n",
       "      <th>bathrooms</th>\n",
       "      <th>bedrooms</th>\n",
       "      <th>building_id</th>\n",
       "      <th>created</th>\n",
       "      <th>description</th>\n",
       "      <th>display_address</th>\n",
       "      <th>features</th>\n",
       "      <th>interest_level</th>\n",
       "      <th>latitude</th>\n",
       "      <th>listing_id</th>\n",
       "      <th>...</th>\n",
       "      <th>photos</th>\n",
       "      <th>price</th>\n",
       "      <th>street_address</th>\n",
       "      <th>year</th>\n",
       "      <th>month</th>\n",
       "      <th>day</th>\n",
       "      <th>len_photos</th>\n",
       "      <th>len_features</th>\n",
       "      <th>len_desc</th>\n",
       "      <th>features1</th>\n",
       "    </tr>\n",
       "  </thead>\n",
       "  <tbody>\n",
       "    <tr>\n",
       "      <th>0</th>\n",
       "      <td>1.5</td>\n",
       "      <td>3</td>\n",
       "      <td>53a5b119ba8f7b61d4e010512e0dfc85</td>\n",
       "      <td>2016-06-24 07:54:24</td>\n",
       "      <td>A Brand New 3 Bedroom 1.5 bath ApartmentEnjoy ...</td>\n",
       "      <td>Metropolitan Avenue</td>\n",
       "      <td>[]</td>\n",
       "      <td>medium</td>\n",
       "      <td>40.7145</td>\n",
       "      <td>7211212</td>\n",
       "      <td>...</td>\n",
       "      <td>[https://photos.renthop.com/2/7211212_1ed4542e...</td>\n",
       "      <td>3000</td>\n",
       "      <td>792 Metropolitan Avenue</td>\n",
       "      <td>2016.0</td>\n",
       "      <td>6.0</td>\n",
       "      <td>24.0</td>\n",
       "      <td>5</td>\n",
       "      <td>0</td>\n",
       "      <td>95.0</td>\n",
       "      <td>None</td>\n",
       "    </tr>\n",
       "    <tr>\n",
       "      <th>1</th>\n",
       "      <td>1.0</td>\n",
       "      <td>2</td>\n",
       "      <td>c5c8a357cba207596b04d1afd1e4f130</td>\n",
       "      <td>2016-06-12 12:19:27</td>\n",
       "      <td></td>\n",
       "      <td>Columbus Avenue</td>\n",
       "      <td>[Doorman, Elevator, Fitness Center, Cats Allow...</td>\n",
       "      <td>low</td>\n",
       "      <td>40.7947</td>\n",
       "      <td>7150865</td>\n",
       "      <td>...</td>\n",
       "      <td>[https://photos.renthop.com/2/7150865_be3306c5...</td>\n",
       "      <td>5465</td>\n",
       "      <td>808 Columbus Avenue</td>\n",
       "      <td>2016.0</td>\n",
       "      <td>6.0</td>\n",
       "      <td>12.0</td>\n",
       "      <td>11</td>\n",
       "      <td>5</td>\n",
       "      <td>9.0</td>\n",
       "      <td>None</td>\n",
       "    </tr>\n",
       "    <tr>\n",
       "      <th>2</th>\n",
       "      <td>1.0</td>\n",
       "      <td>1</td>\n",
       "      <td>c3ba40552e2120b0acfc3cb5730bb2aa</td>\n",
       "      <td>2016-04-17 03:26:41</td>\n",
       "      <td>Top Top West Village location, beautiful Pre-w...</td>\n",
       "      <td>W 13 Street</td>\n",
       "      <td>[Laundry In Building, Dishwasher, Hardwood Flo...</td>\n",
       "      <td>high</td>\n",
       "      <td>40.7388</td>\n",
       "      <td>6887163</td>\n",
       "      <td>...</td>\n",
       "      <td>[https://photos.renthop.com/2/6887163_de85c427...</td>\n",
       "      <td>2850</td>\n",
       "      <td>241 W 13 Street</td>\n",
       "      <td>2016.0</td>\n",
       "      <td>4.0</td>\n",
       "      <td>17.0</td>\n",
       "      <td>8</td>\n",
       "      <td>4</td>\n",
       "      <td>94.0</td>\n",
       "      <td>None</td>\n",
       "    </tr>\n",
       "    <tr>\n",
       "      <th>3</th>\n",
       "      <td>1.0</td>\n",
       "      <td>1</td>\n",
       "      <td>28d9ad350afeaab8027513a3e52ac8d5</td>\n",
       "      <td>2016-04-18 02:22:02</td>\n",
       "      <td>Building Amenities - Garage - Garden - fitness...</td>\n",
       "      <td>East 49th Street</td>\n",
       "      <td>[Hardwood Floors, No Fee]</td>\n",
       "      <td>low</td>\n",
       "      <td>40.7539</td>\n",
       "      <td>6888711</td>\n",
       "      <td>...</td>\n",
       "      <td>[https://photos.renthop.com/2/6888711_6e660cee...</td>\n",
       "      <td>3275</td>\n",
       "      <td>333 East 49th Street</td>\n",
       "      <td>2016.0</td>\n",
       "      <td>4.0</td>\n",
       "      <td>18.0</td>\n",
       "      <td>3</td>\n",
       "      <td>2</td>\n",
       "      <td>80.0</td>\n",
       "      <td>None</td>\n",
       "    </tr>\n",
       "    <tr>\n",
       "      <th>4</th>\n",
       "      <td>1.0</td>\n",
       "      <td>4</td>\n",
       "      <td>0</td>\n",
       "      <td>2016-04-28 01:32:41</td>\n",
       "      <td>Beautifully renovated 3 bedroom flex 4 bedroom...</td>\n",
       "      <td>West 143rd Street</td>\n",
       "      <td>[Pre-War]</td>\n",
       "      <td>low</td>\n",
       "      <td>40.8241</td>\n",
       "      <td>6934781</td>\n",
       "      <td>...</td>\n",
       "      <td>[https://photos.renthop.com/2/6934781_1fa4b41a...</td>\n",
       "      <td>3350</td>\n",
       "      <td>500 West 143rd Street</td>\n",
       "      <td>2016.0</td>\n",
       "      <td>4.0</td>\n",
       "      <td>28.0</td>\n",
       "      <td>3</td>\n",
       "      <td>1</td>\n",
       "      <td>68.0</td>\n",
       "      <td>None</td>\n",
       "    </tr>\n",
       "  </tbody>\n",
       "</table>\n",
       "<p>5 rows × 22 columns</p>\n",
       "</div>"
      ],
      "text/plain": [
       "   bathrooms  bedrooms                       building_id             created  \\\n",
       "0        1.5         3  53a5b119ba8f7b61d4e010512e0dfc85 2016-06-24 07:54:24   \n",
       "1        1.0         2  c5c8a357cba207596b04d1afd1e4f130 2016-06-12 12:19:27   \n",
       "2        1.0         1  c3ba40552e2120b0acfc3cb5730bb2aa 2016-04-17 03:26:41   \n",
       "3        1.0         1  28d9ad350afeaab8027513a3e52ac8d5 2016-04-18 02:22:02   \n",
       "4        1.0         4                                 0 2016-04-28 01:32:41   \n",
       "\n",
       "                                         description      display_address  \\\n",
       "0  A Brand New 3 Bedroom 1.5 bath ApartmentEnjoy ...  Metropolitan Avenue   \n",
       "1                                                         Columbus Avenue   \n",
       "2  Top Top West Village location, beautiful Pre-w...          W 13 Street   \n",
       "3  Building Amenities - Garage - Garden - fitness...     East 49th Street   \n",
       "4  Beautifully renovated 3 bedroom flex 4 bedroom...    West 143rd Street   \n",
       "\n",
       "                                            features interest_level  latitude  \\\n",
       "0                                                 []         medium   40.7145   \n",
       "1  [Doorman, Elevator, Fitness Center, Cats Allow...            low   40.7947   \n",
       "2  [Laundry In Building, Dishwasher, Hardwood Flo...           high   40.7388   \n",
       "3                          [Hardwood Floors, No Fee]            low   40.7539   \n",
       "4                                          [Pre-War]            low   40.8241   \n",
       "\n",
       "   listing_id    ...                                                 photos  \\\n",
       "0     7211212    ...      [https://photos.renthop.com/2/7211212_1ed4542e...   \n",
       "1     7150865    ...      [https://photos.renthop.com/2/7150865_be3306c5...   \n",
       "2     6887163    ...      [https://photos.renthop.com/2/6887163_de85c427...   \n",
       "3     6888711    ...      [https://photos.renthop.com/2/6888711_6e660cee...   \n",
       "4     6934781    ...      [https://photos.renthop.com/2/6934781_1fa4b41a...   \n",
       "\n",
       "  price           street_address    year month   day  len_photos  \\\n",
       "0  3000  792 Metropolitan Avenue  2016.0   6.0  24.0           5   \n",
       "1  5465      808 Columbus Avenue  2016.0   6.0  12.0          11   \n",
       "2  2850          241 W 13 Street  2016.0   4.0  17.0           8   \n",
       "3  3275     333 East 49th Street  2016.0   4.0  18.0           3   \n",
       "4  3350    500 West 143rd Street  2016.0   4.0  28.0           3   \n",
       "\n",
       "   len_features  len_desc  features1  \n",
       "0             0      95.0       None  \n",
       "1             5       9.0       None  \n",
       "2             4      94.0       None  \n",
       "3             2      80.0       None  \n",
       "4             1      68.0       None  \n",
       "\n",
       "[5 rows x 22 columns]"
      ]
     },
     "execution_count": 15,
     "metadata": {},
     "output_type": "execute_result"
    }
   ],
   "source": [
    "full_df.head()"
   ]
  },
  {
   "cell_type": "code",
   "execution_count": 25,
   "metadata": {
    "collapsed": false
   },
   "outputs": [
    {
     "data": {
      "text/html": [
       "<div>\n",
       "<table border=\"1\" class=\"dataframe\">\n",
       "  <thead>\n",
       "    <tr style=\"text-align: right;\">\n",
       "      <th></th>\n",
       "      <th>bathrooms</th>\n",
       "      <th>bedrooms</th>\n",
       "      <th>building_id</th>\n",
       "      <th>created</th>\n",
       "      <th>description</th>\n",
       "      <th>display_address</th>\n",
       "      <th>features</th>\n",
       "      <th>interest_level</th>\n",
       "      <th>latitude</th>\n",
       "      <th>listing_id</th>\n",
       "      <th>longitude</th>\n",
       "      <th>manager_id</th>\n",
       "      <th>photos</th>\n",
       "      <th>price</th>\n",
       "      <th>street_address</th>\n",
       "      <th>year</th>\n",
       "      <th>month</th>\n",
       "      <th>day</th>\n",
       "      <th>features1</th>\n",
       "    </tr>\n",
       "  </thead>\n",
       "  <tbody>\n",
       "    <tr>\n",
       "      <th>0</th>\n",
       "      <td>1.5</td>\n",
       "      <td>3</td>\n",
       "      <td>53a5b119ba8f7b61d4e010512e0dfc85</td>\n",
       "      <td>2016-06-24 07:54:24</td>\n",
       "      <td>A Brand New 3 Bedroom 1.5 bath ApartmentEnjoy ...</td>\n",
       "      <td>Metropolitan Avenue</td>\n",
       "      <td>[]</td>\n",
       "      <td>medium</td>\n",
       "      <td>40.7145</td>\n",
       "      <td>7211212</td>\n",
       "      <td>-73.9425</td>\n",
       "      <td>5ba989232d0489da1b5f2c45f6688adc</td>\n",
       "      <td>[https://photos.renthop.com/2/7211212_1ed4542e...</td>\n",
       "      <td>3000</td>\n",
       "      <td>792 Metropolitan Avenue</td>\n",
       "      <td>2016.0</td>\n",
       "      <td>6.0</td>\n",
       "      <td>24.0</td>\n",
       "      <td>f</td>\n",
       "    </tr>\n",
       "    <tr>\n",
       "      <th>1</th>\n",
       "      <td>1.0</td>\n",
       "      <td>2</td>\n",
       "      <td>c5c8a357cba207596b04d1afd1e4f130</td>\n",
       "      <td>2016-06-12 12:19:27</td>\n",
       "      <td></td>\n",
       "      <td>Columbus Avenue</td>\n",
       "      <td>[Doorman, Elevator, Fitness Center, Cats Allow...</td>\n",
       "      <td>low</td>\n",
       "      <td>40.7947</td>\n",
       "      <td>7150865</td>\n",
       "      <td>-73.9667</td>\n",
       "      <td>7533621a882f71e25173b27e3139d83d</td>\n",
       "      <td>[https://photos.renthop.com/2/7150865_be3306c5...</td>\n",
       "      <td>5465</td>\n",
       "      <td>808 Columbus Avenue</td>\n",
       "      <td>2016.0</td>\n",
       "      <td>6.0</td>\n",
       "      <td>12.0</td>\n",
       "      <td>f</td>\n",
       "    </tr>\n",
       "    <tr>\n",
       "      <th>2</th>\n",
       "      <td>1.0</td>\n",
       "      <td>1</td>\n",
       "      <td>c3ba40552e2120b0acfc3cb5730bb2aa</td>\n",
       "      <td>2016-04-17 03:26:41</td>\n",
       "      <td>Top Top West Village location, beautiful Pre-w...</td>\n",
       "      <td>W 13 Street</td>\n",
       "      <td>[Laundry In Building, Dishwasher, Hardwood Flo...</td>\n",
       "      <td>high</td>\n",
       "      <td>40.7388</td>\n",
       "      <td>6887163</td>\n",
       "      <td>-74.0018</td>\n",
       "      <td>d9039c43983f6e564b1482b273bd7b01</td>\n",
       "      <td>[https://photos.renthop.com/2/6887163_de85c427...</td>\n",
       "      <td>2850</td>\n",
       "      <td>241 W 13 Street</td>\n",
       "      <td>2016.0</td>\n",
       "      <td>4.0</td>\n",
       "      <td>17.0</td>\n",
       "      <td>f</td>\n",
       "    </tr>\n",
       "    <tr>\n",
       "      <th>3</th>\n",
       "      <td>1.0</td>\n",
       "      <td>1</td>\n",
       "      <td>28d9ad350afeaab8027513a3e52ac8d5</td>\n",
       "      <td>2016-04-18 02:22:02</td>\n",
       "      <td>Building Amenities - Garage - Garden - fitness...</td>\n",
       "      <td>East 49th Street</td>\n",
       "      <td>[Hardwood Floors, No Fee]</td>\n",
       "      <td>low</td>\n",
       "      <td>40.7539</td>\n",
       "      <td>6888711</td>\n",
       "      <td>-73.9677</td>\n",
       "      <td>1067e078446a7897d2da493d2f741316</td>\n",
       "      <td>[https://photos.renthop.com/2/6888711_6e660cee...</td>\n",
       "      <td>3275</td>\n",
       "      <td>333 East 49th Street</td>\n",
       "      <td>2016.0</td>\n",
       "      <td>4.0</td>\n",
       "      <td>18.0</td>\n",
       "      <td>f</td>\n",
       "    </tr>\n",
       "    <tr>\n",
       "      <th>4</th>\n",
       "      <td>1.0</td>\n",
       "      <td>4</td>\n",
       "      <td>0</td>\n",
       "      <td>2016-04-28 01:32:41</td>\n",
       "      <td>Beautifully renovated 3 bedroom flex 4 bedroom...</td>\n",
       "      <td>West 143rd Street</td>\n",
       "      <td>[Pre-War]</td>\n",
       "      <td>low</td>\n",
       "      <td>40.8241</td>\n",
       "      <td>6934781</td>\n",
       "      <td>-73.9493</td>\n",
       "      <td>98e13ad4b495b9613cef886d79a6291f</td>\n",
       "      <td>[https://photos.renthop.com/2/6934781_1fa4b41a...</td>\n",
       "      <td>3350</td>\n",
       "      <td>500 West 143rd Street</td>\n",
       "      <td>2016.0</td>\n",
       "      <td>4.0</td>\n",
       "      <td>28.0</td>\n",
       "      <td>f</td>\n",
       "    </tr>\n",
       "  </tbody>\n",
       "</table>\n",
       "</div>"
      ],
      "text/plain": [
       "   bathrooms  bedrooms                       building_id             created  \\\n",
       "0        1.5         3  53a5b119ba8f7b61d4e010512e0dfc85 2016-06-24 07:54:24   \n",
       "1        1.0         2  c5c8a357cba207596b04d1afd1e4f130 2016-06-12 12:19:27   \n",
       "2        1.0         1  c3ba40552e2120b0acfc3cb5730bb2aa 2016-04-17 03:26:41   \n",
       "3        1.0         1  28d9ad350afeaab8027513a3e52ac8d5 2016-04-18 02:22:02   \n",
       "4        1.0         4                                 0 2016-04-28 01:32:41   \n",
       "\n",
       "                                         description      display_address  \\\n",
       "0  A Brand New 3 Bedroom 1.5 bath ApartmentEnjoy ...  Metropolitan Avenue   \n",
       "1                                                         Columbus Avenue   \n",
       "2  Top Top West Village location, beautiful Pre-w...          W 13 Street   \n",
       "3  Building Amenities - Garage - Garden - fitness...     East 49th Street   \n",
       "4  Beautifully renovated 3 bedroom flex 4 bedroom...    West 143rd Street   \n",
       "\n",
       "                                            features interest_level  latitude  \\\n",
       "0                                                 []         medium   40.7145   \n",
       "1  [Doorman, Elevator, Fitness Center, Cats Allow...            low   40.7947   \n",
       "2  [Laundry In Building, Dishwasher, Hardwood Flo...           high   40.7388   \n",
       "3                          [Hardwood Floors, No Fee]            low   40.7539   \n",
       "4                                          [Pre-War]            low   40.8241   \n",
       "\n",
       "   listing_id  longitude                        manager_id  \\\n",
       "0     7211212   -73.9425  5ba989232d0489da1b5f2c45f6688adc   \n",
       "1     7150865   -73.9667  7533621a882f71e25173b27e3139d83d   \n",
       "2     6887163   -74.0018  d9039c43983f6e564b1482b273bd7b01   \n",
       "3     6888711   -73.9677  1067e078446a7897d2da493d2f741316   \n",
       "4     6934781   -73.9493  98e13ad4b495b9613cef886d79a6291f   \n",
       "\n",
       "                                              photos  price  \\\n",
       "0  [https://photos.renthop.com/2/7211212_1ed4542e...   3000   \n",
       "1  [https://photos.renthop.com/2/7150865_be3306c5...   5465   \n",
       "2  [https://photos.renthop.com/2/6887163_de85c427...   2850   \n",
       "3  [https://photos.renthop.com/2/6888711_6e660cee...   3275   \n",
       "4  [https://photos.renthop.com/2/6934781_1fa4b41a...   3350   \n",
       "\n",
       "            street_address    year  month   day features1  \n",
       "0  792 Metropolitan Avenue  2016.0    6.0  24.0         f  \n",
       "1      808 Columbus Avenue  2016.0    6.0  12.0         f  \n",
       "2          241 W 13 Street  2016.0    4.0  17.0         f  \n",
       "3     333 East 49th Street  2016.0    4.0  18.0         f  \n",
       "4    500 West 143rd Street  2016.0    4.0  28.0         f  "
      ]
     },
     "execution_count": 25,
     "metadata": {},
     "output_type": "execute_result"
    }
   ],
   "source": [
    "CV = CountVectorizer(stop_words='english', max_features=200)\n",
    "full_df['features_vectorized']=cv.fit_transorm(train_df['features1'])"
   ]
  },
  {
   "cell_type": "code",
   "execution_count": null,
   "metadata": {
    "collapsed": true
   },
   "outputs": [],
   "source": []
  }
 ],
 "metadata": {
  "kernelspec": {
   "display_name": "Python 2",
   "language": "python",
   "name": "python2"
  }
 },
 "nbformat": 4,
 "nbformat_minor": 2
}
